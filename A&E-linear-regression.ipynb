{
 "cells": [
  {
   "cell_type": "markdown",
   "source": [
    "#Total A&E Attendances Time Series#"
   ],
   "metadata": {}
  },
  {
   "cell_type": "code",
   "execution_count": 2,
   "source": [
    "#Importing libraries\n",
    "\n",
    "import numpy as np\n",
    "import matplotlib.pyplot as plt\n",
    "import pandas as pd"
   ],
   "outputs": [],
   "metadata": {}
  },
  {
   "cell_type": "code",
   "execution_count": 3,
   "source": [
    "#Load data\n",
    " \n",
    "data = pd.read_csv('w-A&E-Attendances.csv')"
   ],
   "outputs": [],
   "metadata": {}
  },
  {
   "cell_type": "code",
   "execution_count": 4,
   "source": [
    "# Data Cleaning/Pre-processing \n",
    "print(data)"
   ],
   "outputs": [
    {
     "output_type": "stream",
     "name": "stdout",
     "text": [
      "     Week Total A&E Attendances        Date\n",
      "0       1            391,495.00  07/11/2010\n",
      "1       2            385,685.00  14/11/2010\n",
      "2       3            388,743.00  21/11/2010\n",
      "3       4            381,273.00  28/11/2010\n",
      "4       5            363,410.00  05/12/2010\n",
      "..    ...                   ...         ...\n",
      "238   239            430,635.00  31/05/2015\n",
      "239   240            434,724.00  07/06/2015\n",
      "240   241            444,151.00  14/06/2015\n",
      "241   242            448,591.00  21/06/2015\n",
      "242   243            448,428.00  28/06/2015\n",
      "\n",
      "[243 rows x 3 columns]\n"
     ]
    }
   ],
   "metadata": {}
  },
  {
   "cell_type": "code",
   "execution_count": 5,
   "source": [
    "data.astype('str')"
   ],
   "outputs": [
    {
     "output_type": "execute_result",
     "data": {
      "text/plain": [
       "    Week Total A&E Attendances        Date\n",
       "0      1            391,495.00  07/11/2010\n",
       "1      2            385,685.00  14/11/2010\n",
       "2      3            388,743.00  21/11/2010\n",
       "3      4            381,273.00  28/11/2010\n",
       "4      5            363,410.00  05/12/2010\n",
       "..   ...                   ...         ...\n",
       "238  239            430,635.00  31/05/2015\n",
       "239  240            434,724.00  07/06/2015\n",
       "240  241            444,151.00  14/06/2015\n",
       "241  242            448,591.00  21/06/2015\n",
       "242  243            448,428.00  28/06/2015\n",
       "\n",
       "[243 rows x 3 columns]"
      ],
      "text/html": [
       "<div>\n",
       "<style scoped>\n",
       "    .dataframe tbody tr th:only-of-type {\n",
       "        vertical-align: middle;\n",
       "    }\n",
       "\n",
       "    .dataframe tbody tr th {\n",
       "        vertical-align: top;\n",
       "    }\n",
       "\n",
       "    .dataframe thead th {\n",
       "        text-align: right;\n",
       "    }\n",
       "</style>\n",
       "<table border=\"1\" class=\"dataframe\">\n",
       "  <thead>\n",
       "    <tr style=\"text-align: right;\">\n",
       "      <th></th>\n",
       "      <th>Week</th>\n",
       "      <th>Total A&amp;E Attendances</th>\n",
       "      <th>Date</th>\n",
       "    </tr>\n",
       "  </thead>\n",
       "  <tbody>\n",
       "    <tr>\n",
       "      <th>0</th>\n",
       "      <td>1</td>\n",
       "      <td>391,495.00</td>\n",
       "      <td>07/11/2010</td>\n",
       "    </tr>\n",
       "    <tr>\n",
       "      <th>1</th>\n",
       "      <td>2</td>\n",
       "      <td>385,685.00</td>\n",
       "      <td>14/11/2010</td>\n",
       "    </tr>\n",
       "    <tr>\n",
       "      <th>2</th>\n",
       "      <td>3</td>\n",
       "      <td>388,743.00</td>\n",
       "      <td>21/11/2010</td>\n",
       "    </tr>\n",
       "    <tr>\n",
       "      <th>3</th>\n",
       "      <td>4</td>\n",
       "      <td>381,273.00</td>\n",
       "      <td>28/11/2010</td>\n",
       "    </tr>\n",
       "    <tr>\n",
       "      <th>4</th>\n",
       "      <td>5</td>\n",
       "      <td>363,410.00</td>\n",
       "      <td>05/12/2010</td>\n",
       "    </tr>\n",
       "    <tr>\n",
       "      <th>...</th>\n",
       "      <td>...</td>\n",
       "      <td>...</td>\n",
       "      <td>...</td>\n",
       "    </tr>\n",
       "    <tr>\n",
       "      <th>238</th>\n",
       "      <td>239</td>\n",
       "      <td>430,635.00</td>\n",
       "      <td>31/05/2015</td>\n",
       "    </tr>\n",
       "    <tr>\n",
       "      <th>239</th>\n",
       "      <td>240</td>\n",
       "      <td>434,724.00</td>\n",
       "      <td>07/06/2015</td>\n",
       "    </tr>\n",
       "    <tr>\n",
       "      <th>240</th>\n",
       "      <td>241</td>\n",
       "      <td>444,151.00</td>\n",
       "      <td>14/06/2015</td>\n",
       "    </tr>\n",
       "    <tr>\n",
       "      <th>241</th>\n",
       "      <td>242</td>\n",
       "      <td>448,591.00</td>\n",
       "      <td>21/06/2015</td>\n",
       "    </tr>\n",
       "    <tr>\n",
       "      <th>242</th>\n",
       "      <td>243</td>\n",
       "      <td>448,428.00</td>\n",
       "      <td>28/06/2015</td>\n",
       "    </tr>\n",
       "  </tbody>\n",
       "</table>\n",
       "<p>243 rows × 3 columns</p>\n",
       "</div>"
      ]
     },
     "metadata": {},
     "execution_count": 5
    }
   ],
   "metadata": {}
  },
  {
   "cell_type": "code",
   "execution_count": 6,
   "source": [
    "#Formatting\n",
    "data['Total A&E Attendances']=data['Total A&E Attendances'].str.replace(',','')"
   ],
   "outputs": [],
   "metadata": {}
  },
  {
   "cell_type": "code",
   "execution_count": 7,
   "source": [
    "#Checking the type of data we have\n",
    "data.dtypes"
   ],
   "outputs": [
    {
     "output_type": "execute_result",
     "data": {
      "text/plain": [
       "Week                      int64\n",
       "Total A&E Attendances    object\n",
       "Date                     object\n",
       "dtype: object"
      ]
     },
     "metadata": {},
     "execution_count": 7
    }
   ],
   "metadata": {}
  },
  {
   "cell_type": "code",
   "execution_count": 8,
   "source": [
    "data['Total A&E Attendances'] = data['Total A&E Attendances'].astype(float, errors = 'raise')"
   ],
   "outputs": [],
   "metadata": {}
  },
  {
   "cell_type": "code",
   "execution_count": 9,
   "source": [
    "data.dtypes\n"
   ],
   "outputs": [
    {
     "output_type": "execute_result",
     "data": {
      "text/plain": [
       "Week                       int64\n",
       "Total A&E Attendances    float64\n",
       "Date                      object\n",
       "dtype: object"
      ]
     },
     "metadata": {},
     "execution_count": 9
    }
   ],
   "metadata": {}
  },
  {
   "cell_type": "code",
   "execution_count": 10,
   "source": [
    "data"
   ],
   "outputs": [
    {
     "output_type": "execute_result",
     "data": {
      "text/plain": [
       "     Week  Total A&E Attendances        Date\n",
       "0       1               391495.0  07/11/2010\n",
       "1       2               385685.0  14/11/2010\n",
       "2       3               388743.0  21/11/2010\n",
       "3       4               381273.0  28/11/2010\n",
       "4       5               363410.0  05/12/2010\n",
       "..    ...                    ...         ...\n",
       "238   239               430635.0  31/05/2015\n",
       "239   240               434724.0  07/06/2015\n",
       "240   241               444151.0  14/06/2015\n",
       "241   242               448591.0  21/06/2015\n",
       "242   243               448428.0  28/06/2015\n",
       "\n",
       "[243 rows x 3 columns]"
      ],
      "text/html": [
       "<div>\n",
       "<style scoped>\n",
       "    .dataframe tbody tr th:only-of-type {\n",
       "        vertical-align: middle;\n",
       "    }\n",
       "\n",
       "    .dataframe tbody tr th {\n",
       "        vertical-align: top;\n",
       "    }\n",
       "\n",
       "    .dataframe thead th {\n",
       "        text-align: right;\n",
       "    }\n",
       "</style>\n",
       "<table border=\"1\" class=\"dataframe\">\n",
       "  <thead>\n",
       "    <tr style=\"text-align: right;\">\n",
       "      <th></th>\n",
       "      <th>Week</th>\n",
       "      <th>Total A&amp;E Attendances</th>\n",
       "      <th>Date</th>\n",
       "    </tr>\n",
       "  </thead>\n",
       "  <tbody>\n",
       "    <tr>\n",
       "      <th>0</th>\n",
       "      <td>1</td>\n",
       "      <td>391495.0</td>\n",
       "      <td>07/11/2010</td>\n",
       "    </tr>\n",
       "    <tr>\n",
       "      <th>1</th>\n",
       "      <td>2</td>\n",
       "      <td>385685.0</td>\n",
       "      <td>14/11/2010</td>\n",
       "    </tr>\n",
       "    <tr>\n",
       "      <th>2</th>\n",
       "      <td>3</td>\n",
       "      <td>388743.0</td>\n",
       "      <td>21/11/2010</td>\n",
       "    </tr>\n",
       "    <tr>\n",
       "      <th>3</th>\n",
       "      <td>4</td>\n",
       "      <td>381273.0</td>\n",
       "      <td>28/11/2010</td>\n",
       "    </tr>\n",
       "    <tr>\n",
       "      <th>4</th>\n",
       "      <td>5</td>\n",
       "      <td>363410.0</td>\n",
       "      <td>05/12/2010</td>\n",
       "    </tr>\n",
       "    <tr>\n",
       "      <th>...</th>\n",
       "      <td>...</td>\n",
       "      <td>...</td>\n",
       "      <td>...</td>\n",
       "    </tr>\n",
       "    <tr>\n",
       "      <th>238</th>\n",
       "      <td>239</td>\n",
       "      <td>430635.0</td>\n",
       "      <td>31/05/2015</td>\n",
       "    </tr>\n",
       "    <tr>\n",
       "      <th>239</th>\n",
       "      <td>240</td>\n",
       "      <td>434724.0</td>\n",
       "      <td>07/06/2015</td>\n",
       "    </tr>\n",
       "    <tr>\n",
       "      <th>240</th>\n",
       "      <td>241</td>\n",
       "      <td>444151.0</td>\n",
       "      <td>14/06/2015</td>\n",
       "    </tr>\n",
       "    <tr>\n",
       "      <th>241</th>\n",
       "      <td>242</td>\n",
       "      <td>448591.0</td>\n",
       "      <td>21/06/2015</td>\n",
       "    </tr>\n",
       "    <tr>\n",
       "      <th>242</th>\n",
       "      <td>243</td>\n",
       "      <td>448428.0</td>\n",
       "      <td>28/06/2015</td>\n",
       "    </tr>\n",
       "  </tbody>\n",
       "</table>\n",
       "<p>243 rows × 3 columns</p>\n",
       "</div>"
      ]
     },
     "metadata": {},
     "execution_count": 10
    }
   ],
   "metadata": {}
  },
  {
   "cell_type": "code",
   "execution_count": 11,
   "source": [
    "#Defaults\n",
    "X = data.iloc[:, :1].values\n",
    "Y = data.iloc[:, 1].values"
   ],
   "outputs": [],
   "metadata": {}
  },
  {
   "cell_type": "code",
   "execution_count": 12,
   "source": [
    "#Splitting the dataset into a Training set and Test set\n",
    "\n",
    "from sklearn.model_selection import train_test_split\n",
    "X_Train, X_Test, Y_Train, Y_Test = train_test_split(X, Y, test_size = 1/3, random_state = 0)"
   ],
   "outputs": [],
   "metadata": {}
  },
  {
   "cell_type": "code",
   "execution_count": null,
   "source": [
    "#Fitting Simple Linear Regression to the training set\n",
    "\n",
    "from sklearn.linear_model import LinearRegression\n",
    "regressor = LinearRegression()\n",
    "regressor.fit(X_Train, Y_Train)"
   ],
   "outputs": [
    {
     "output_type": "execute_result",
     "data": {
      "text/plain": [
       "LinearRegression()"
      ]
     },
     "metadata": {},
     "execution_count": 13
    }
   ],
   "metadata": {}
  },
  {
   "cell_type": "code",
   "execution_count": null,
   "source": [
    "# Predicting the Test set result ￼\n",
    "\n",
    "Y_Pred = regressor.predict(X_Test)"
   ],
   "outputs": [],
   "metadata": {}
  },
  {
   "cell_type": "code",
   "execution_count": null,
   "source": [
    "# Visualising the Training set results\n",
    "\n",
    "plt.scatter(X_Train, Y_Train, color = 'purple')\n",
    "plt.plot(X_Train, regressor.predict(X_Train), color = 'red')\n",
    "plt.title('Weekly A&E Attendances (Training Set)')\n",
    "plt.xlabel('Week')\n",
    "plt.ylabel('Total A&E Attendances')\n",
    "plt.gcf().set_size_inches((18, 10)) \n",
    "\n",
    "plt.show"
   ],
   "outputs": [
    {
     "output_type": "execute_result",
     "data": {
      "text/plain": [
       "<function matplotlib.pyplot.show(close=None, block=None)>"
      ]
     },
     "metadata": {},
     "execution_count": 15
    },
    {
     "output_type": "display_data",
     "data": {
      "text/plain": [
       "<Figure size 1296x720 with 1 Axes>"
      ],
      "image/png": "[encoded data removed]"
     },
     "metadata": {
      "needs_background": "light"
     }
    }
   ],
   "metadata": {}
  },
  {
   "cell_type": "code",
   "execution_count": null,
   "source": [
    "# Visualising the Test set results\n",
    "\n",
    "\n",
    "\n",
    "plt.scatter(X_Test, Y_Test, color = 'purple')\n",
    "plt.plot(X_Train, regressor.predict(X_Train), color = 'red')\n",
    "plt.title('Weekly A&E Attendances (Test Set)')\n",
    "plt.xlabel('Week')\n",
    "\n",
    "plt.ylabel('Total A&E Attendances')\n",
    "plt.gcf().set_size_inches((18, 10)) \n",
    "\n",
    "plt.show"
   ],
   "outputs": [
    {
     "output_type": "execute_result",
     "data": {
      "text/plain": [
       "<function matplotlib.pyplot.show(close=None, block=None)>"
      ]
     },
     "metadata": {},
     "execution_count": 16
    },
    {
     "output_type": "display_data",
     "data": {
      "text/plain": [
       "<Figure size 1296x720 with 1 Axes>"
      ],
      "image/png": "[encoded data removed]"
     },
     "metadata": {
      "needs_background": "light"
     }
    }
   ],
   "metadata": {}
  },
  {
   "cell_type": "markdown",
   "source": [
    "Overall, there is a clear upwards trend between Total A&E Attendances over time.\n",
    "\n",
    "Total A&E Attendances increase over time, as we anticipate an increase in the already growing population.\n",
    "\n",
    "Seasonality within this dataset can be explored by using a SARMIA model, we can learn more about when A&E Attendances increase, this is most-likely increasing during the winter months."
   ],
   "metadata": {}
  }
 ],
 "metadata": {
  "orig_nbformat": 4,
  "language_info": {
   "name": "python",
   "version": "3.9.1",
   "mimetype": "text/x-python",
   "codemirror_mode": {
    "name": "ipython",
    "version": 3
   },
   "pygments_lexer": "ipython3",
   "nbconvert_exporter": "python",
   "file_extension": ".py"
  },
  "kernelspec": {
   "name": "python3",
   "display_name": "Python 3.9.1 64-bit ('miniconda3': virtualenv)"
  },
  "interpreter": {
   "hash": "7ebc4831230ab089c84145cf80a99cf3b64364336e2f857a3b32dd1c985847a6"
  }
 },
 "nbformat": 4,
 "nbformat_minor": 2
}
